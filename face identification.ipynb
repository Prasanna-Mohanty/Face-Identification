{
 "cells": [
  {
   "cell_type": "code",
   "execution_count": 1,
   "metadata": {},
   "outputs": [
    {
     "name": "stdout",
     "output_type": "stream",
     "text": [
      "RESPONSE:[{'faceId': 'bc155bd3-896d-4d12-a9ca-9a868e11d5a7', 'faceRectangle': {'top': 335, 'left': 249, 'width': 319, 'height': 319}, 'faceAttributes': {'smile': 1.0, 'headPose': {'pitch': 0.0, 'roll': -3.7, 'yaw': -2.6}, 'gender': 'male', 'age': 43.0, 'facialHair': {'moustache': 0.1, 'beard': 0.1, 'sideburns': 0.1}}}]\n"
     ]
    }
   ],
   "source": [
    "# import modules\n",
    "\n",
    "import requests\n",
    "# Request headers set Subscription key which provides access to this API. Found in your Cognitive Services accounts.\n",
    "headers = {\n",
    "    'Content-Type': 'application/json',\n",
    "    'Ocp-Apim-Subscription-Key': '33beb8302063463fae5d879567f248bc',\n",
    "}\n",
    "body = dict()\n",
    "\n",
    "body[\"url\"] = \"http://www.imagozone.com/var/albums/vedete/Matthew%20Perry/Matthew%20Perry.jpg?m=1355670659\"\n",
    "\n",
    "body = str(body)\n",
    "# Request URL \n",
    "FaceApiDetect = 'https://southeastasia.api.cognitive.microsoft.com/face/v1.0/detect?returnFaceId=true&returnFaceAttributes=age,gender,headPose,smile,facialHair' \n",
    "try:\n",
    "    # REST Call \n",
    "    response = requests.post(FaceApiDetect, data=body, headers=headers) \n",
    "    print(\"RESPONSE:\" + str(response.json()))\n",
    "except Exception as e:\n",
    "    print(e)"
   ]
  },
  {
   "cell_type": "markdown",
   "metadata": {},
   "source": [
    "### Create a person group using Face API: PersonGroup — Create"
   ]
  },
  {
   "cell_type": "code",
   "execution_count": 2,
   "metadata": {},
   "outputs": [
    {
     "name": "stdout",
     "output_type": "stream",
     "text": [
      "RESPONSE:409\n"
     ]
    }
   ],
   "source": [
    "personGroupId=\"friends\"\n",
    "body = dict()\n",
    "body[\"name\"] = \"F.R.I.E.N.D.S\"\n",
    "body[\"userData\"] = \"All friends cast\"\n",
    "body = str(body)\n",
    "\n",
    "#Request URL \n",
    "\n",
    "FaceApiCreateLargePersonGroup = 'https://southeastasia.api.cognitive.microsoft.com/face/v1.0/persongroups/'+personGroupId \n",
    "\n",
    "try:\n",
    "    # REST Call \n",
    "    response = requests.put(FaceApiCreateLargePersonGroup, data=body, headers=headers) \n",
    "    print(\"RESPONSE:\" + str(response.status_code))\n",
    "except Exception as e:\n",
    "    print(e)"
   ]
  },
  {
   "cell_type": "markdown",
   "metadata": {},
   "source": [
    "### Create a person using face API: PersonGroup Person — Create"
   ]
  },
  {
   "cell_type": "code",
   "execution_count": 3,
   "metadata": {},
   "outputs": [
    {
     "name": "stdout",
     "output_type": "stream",
     "text": [
      "PERSONID: 00d66190-6c3a-40ed-bb7e-c9fc8efbaa5b\n"
     ]
    }
   ],
   "source": [
    "#Request Body\n",
    "body = dict()\n",
    "body[\"name\"] = \"Chandler\"\n",
    "body[\"userData\"] = \"Friends\"\n",
    "body = str(body)\n",
    "#Request URL \n",
    "FaceApiCreatePerson = 'https://southeastasia.api.cognitive.microsoft.com/face/v1.0/persongroups/'+personGroupId+'/persons' \n",
    "try:\n",
    "    # REST Call \n",
    "    response = requests.post(FaceApiCreatePerson, data=body, headers=headers) \n",
    "    responseJson = response.json()\n",
    "    personId = responseJson[\"personId\"]\n",
    "    print(\"PERSONID: \"+str(personId))\n",
    "\n",
    "except Exception as e:\n",
    "\n",
    "    print(e)"
   ]
  },
  {
   "cell_type": "markdown",
   "metadata": {},
   "source": [
    "### Add face images to the person using face API: PersonGroup Person — Add Face"
   ]
  },
  {
   "cell_type": "code",
   "execution_count": 4,
   "metadata": {},
   "outputs": [
    {
     "name": "stdout",
     "output_type": "stream",
     "text": [
      "PERSISTED FACE ID: 524efad0-de0a-4b83-b7fd-3a8c88ec1c3e\n",
      "PERSISTED FACE ID: 2c22f1ba-9185-4ffb-b1d6-84625344693d\n",
      "PERSISTED FACE ID: 76ed545e-4226-457e-90ca-53f7e4ef55c8\n",
      "PERSISTED FACE ID: 60fbc459-8a84-41bc-be6e-c104569fc570\n",
      "PERSISTED FACE ID: a32d87e9-3b99-44df-8023-ef7e4a4f2faa\n"
     ]
    }
   ],
   "source": [
    "# 5 random images of chandler\n",
    "\n",
    "chandlerImageList = [\"http://www.imagozone.com/var/albums/vedete/Matthew%20Perry/Matthew%20Perry.jpg?m=1355670659\",\n",
    "\n",
    "                     \"https://i.pinimg.com/236x/b0/57/ff/b057ff0d16bd5205e4d3142e10f03394--muriel-matthew-perry.jpg\",\n",
    "\n",
    "                     \"https://qph.fs.quoracdn.net/main-qimg-74677a162a39c79d6a9aa2b11cc195b1\",\n",
    "\n",
    "                     \"https://pbs.twimg.com/profile_images/2991381736/e2160154f215a325b0fc73f866039311_400x400.jpeg\",\n",
    "\n",
    "                     \"https://i.pinimg.com/236x/f2/9f/45/f29f45049768ddf5c5d75ff37ffbfb3f--hottest-actors-matthew-perry.jpg\"]\n",
    "#Request URL \n",
    "FaceApiCreatePerson = 'https://southeastasia.api.cognitive.microsoft.com/face/v1.0/persongroups/'+personGroupId+'/persons/'+personId+'/persistedFaces' \n",
    "for image in chandlerImageList:\n",
    "    body = dict()\n",
    "    body[\"url\"] = image\n",
    "    body = str(body)\n",
    "    try:\n",
    "        # REST Call \n",
    "        response = requests.post(FaceApiCreatePerson, data=body, headers=headers) \n",
    "        responseJson = response.json()\n",
    "        persistedFaceId = responseJson[\"persistedFaceId\"]\n",
    "        print(\"PERSISTED FACE ID: \"+str(persistedFaceId))\n",
    "\n",
    "    except Exception as e:\n",
    "        print(e)"
   ]
  },
  {
   "cell_type": "markdown",
   "metadata": {},
   "source": [
    "### Train the model using face API: PersonGroup — Train"
   ]
  },
  {
   "cell_type": "code",
   "execution_count": 5,
   "metadata": {},
   "outputs": [
    {
     "name": "stdout",
     "output_type": "stream",
     "text": [
      "RESPONSE:202\n"
     ]
    }
   ],
   "source": [
    "#Request Body\n",
    "body = dict()\n",
    "#Request URL \n",
    "FaceApiTrain = 'https://southeastasia.api.cognitive.microsoft.com/face/v1.0/persongroups/'+personGroupId+'/train'\n",
    "try:\n",
    "    # REST Call \n",
    "    response = requests.post(FaceApiTrain, data=body, headers=headers) \n",
    "    print(\"RESPONSE:\" + str(response.status_code))\n",
    "except Exception as e:\n",
    "    print(e)"
   ]
  },
  {
   "cell_type": "markdown",
   "metadata": {},
   "source": [
    "### Final Step Identify face image. This involves in total 3 different face APIs."
   ]
  },
  {
   "cell_type": "code",
   "execution_count": 6,
   "metadata": {},
   "outputs": [
    {
     "name": "stdout",
     "output_type": "stream",
     "text": [
      "FACE ID: 386dbc76-6487-46e7-87a8-4d03702b6515\n"
     ]
    }
   ],
   "source": [
    "# Request Body\n",
    "\n",
    "body = dict()\n",
    "\n",
    "body[\"url\"] = \"https://upload.wikimedia.org/wikipedia/en/thumb/6/6c/Matthew_Perry_as_Chandler_Bing.jpg/220px-Matthew_Perry_as_Chandler_Bing.jpg\"\n",
    "\n",
    "body = str(body)\n",
    "\n",
    "\n",
    "\n",
    "# Request URL \n",
    "\n",
    "FaceApiDetect = 'https://southeastasia.api.cognitive.microsoft.com/face/v1.0/detect?returnFaceId=true' \n",
    "\n",
    "try:\n",
    "    # REST Call \n",
    "    response = requests.post(FaceApiDetect, data=body, headers=headers) \n",
    "    responseJson = response.json()\n",
    "    faceId = responseJson[0][\"faceId\"]\n",
    "    print(\"FACE ID: \"+str(faceId))\n",
    "\n",
    "except Exception as e:\n",
    "\n",
    "    print(e)"
   ]
  },
  {
   "cell_type": "code",
   "execution_count": 7,
   "metadata": {},
   "outputs": [
    {
     "name": "stdout",
     "output_type": "stream",
     "text": [
      "PERSON ID: 3fdf3f01-5c33-427f-92a7-2a2e9f63d160, CONFIDENCE :0.79974\n"
     ]
    }
   ],
   "source": [
    "faceIdsList = [faceId]\n",
    "# Request Body\n",
    "body = dict()\n",
    "body[\"personGroupId\"] = personGroupId\n",
    "body[\"faceIds\"] = faceIdsList\n",
    "body[\"maxNumOfCandidatesReturned\"] = 1 \n",
    "body[\"confidenceThreshold\"] = 0.5\n",
    "body = str(body)\n",
    "# Request URL \n",
    "FaceApiIdentify = 'https://southeastasia.api.cognitive.microsoft.com/face/v1.0/identify' \n",
    "try:\n",
    "    # REST Call \n",
    "    response = requests.post(FaceApiIdentify, data=body, headers=headers) \n",
    "    responseJson = response.json()\n",
    "    personId = responseJson[0][\"candidates\"][0][\"personId\"]\n",
    "    confidence = responseJson[0][\"candidates\"][0][\"confidence\"]\n",
    "    print(\"PERSON ID: \"+str(personId)+ \", CONFIDENCE :\"+str(confidence))\n",
    "    \n",
    "except Exception as e:\n",
    "    print(\"Could not detect\")"
   ]
  },
  {
   "cell_type": "code",
   "execution_count": 7,
   "metadata": {},
   "outputs": [
    {
     "name": "stdout",
     "output_type": "stream",
     "text": [
      "This Is Chandler\n"
     ]
    }
   ],
   "source": [
    "# Request URL \n",
    "\n",
    "FaceApiGetPerson = 'https://southeastasia.api.cognitive.microsoft.com/face/v1.0/persongroups/'+personGroupId+'/persons/'+personId\n",
    "try:\n",
    "    response = requests.get(FaceApiGetPerson, headers=headers) \n",
    "    responseJson = response.json()\n",
    "    print(\"This Is \"+str(responseJson[\"name\"]))\n",
    "   \n",
    "except Exception as e:\n",
    "    print(e)"
   ]
  },
  {
   "cell_type": "code",
   "execution_count": null,
   "metadata": {},
   "outputs": [],
   "source": []
  }
 ],
 "metadata": {
  "kernelspec": {
   "display_name": "Python 3",
   "language": "python",
   "name": "python3"
  },
  "language_info": {
   "codemirror_mode": {
    "name": "ipython",
    "version": 3
   },
   "file_extension": ".py",
   "mimetype": "text/x-python",
   "name": "python",
   "nbconvert_exporter": "python",
   "pygments_lexer": "ipython3",
   "version": "3.7.1"
  }
 },
 "nbformat": 4,
 "nbformat_minor": 2
}
